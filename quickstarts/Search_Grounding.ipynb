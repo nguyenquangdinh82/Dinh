{
  "cells": [
    {
      "cell_type": "markdown",
      "metadata": {
        "id": "Tce3stUlHN0L"
      },
      "source": [
        "##### Copyright 2024 Google LLC."
      ]
    },
    {
      "cell_type": "code",
      "execution_count": null,
      "metadata": {
        "cellView": "form",
        "id": "tuOe1ymfHZPu"
      },
      "outputs": [],
      "source": [
        "#@title Licensed under the Apache License, Version 2.0 (the \"License\");\n",
        "# you may not use this file except in compliance with the License.\n",
        "# You may obtain a copy of the License at\n",
        "#\n",
        "# https://www.apache.org/licenses/LICENSE-2.0\n",
        "#\n",
        "# Unless required by applicable law or agreed to in writing, software\n",
        "# distributed under the License is distributed on an \"AS IS\" BASIS,\n",
        "# WITHOUT WARRANTIES OR CONDITIONS OF ANY KIND, either express or implied.\n",
        "# See the License for the specific language governing permissions and\n",
        "# limitations under the License."
      ]
    },
    {
      "cell_type": "markdown",
      "metadata": {
        "id": "Y_lgX9omPXF-"
      },
      "source": [
        "## Gemini 2.0 - Grounding using Search as a tool"
      ]
    },
    {
      "cell_type": "markdown",
      "metadata": {
        "id": "VkR4fWudrHCs"
      },
      "source": [
        "<table align=\"left\">\n",
        "  <td>\n",
        "    <a target=\"_blank\" href=\"https://colab.research.google.com/github/google-gemini/cookbook/blob/main/quickstarts/Search_Grounding.ipynb\"><img src=\"https://ai.google.dev/site-assets/images/docs/colab_logo_32px.png\" />Run in Google Colab</a>\n",
        "  </td>\n",
        "</table>"
      ]
    },
    {
      "cell_type": "markdown",
      "metadata": {
        "id": "WDKKNfXWrHgs"
      },
      "source": [
        "In this notebook you will learn how to use the new Google Search tool available in [Gemini 2.0](https://ai.google.dev/gemini-api/docs/models/gemini-v2), using both the unary API and the Multimodal Live API. Check out the docs to learn more about using [Search as a tool](https://ai.google.dev/gemini-api/docs/models/gemini-v2#search-tool).\n",
        "\n",
        "Note that the previous version of this guide using Gemini models priori to 2.0 and the legacy SDK can still be found [here](https://github.com/google-gemini/cookbook/blob/gemini-1.5-archive/quickstarts/Search_Grounding.ipynb)."
      ]
    },
    {
      "cell_type": "markdown",
      "metadata": {
        "id": "vKu1tRBrQ7xj"
      },
      "source": [
        "## Set up the SDK\n",
        "\n",
        "This guide uses the [`google-genai`](https://pypi.org/project/google-genai) Python SDK to connect to the Gemini 2.0 models."
      ]
    },
    {
      "cell_type": "markdown",
      "metadata": {
        "id": "vIWKUlPqP5NK"
      },
      "source": [
        "### Install SDK\n",
        "\n",
        "The new **[Google Gen AI SDK](https://github.com/googleapis/python-genai)** provides programmatic access to Gemini 2 (and previous models) using both the [Google AI for Developers](https://ai.google.dev/gemini-api/docs/models/gemini-v2) and [Vertex AI](https://cloud.google.com/vertex-ai/generative-ai/docs/overview) APIs. With a few exceptions, code that runs on one platform will run on both. This means that you can prototype an application using the Developer API and then migrate the application to Vertex AI without rewriting your code.\n",
        "\n",
        "More details about this new SDK on the [documentation](https://googleapis.github.io/python-genai/) or in the [Getting started](get_started.ipynb) notebook."
      ]
    },
    {
      "cell_type": "code",
      "execution_count": 1,
      "metadata": {
        "id": "6Fr84vJuPSHb",
        "outputId": "fc98993b-0d03-43ba-80e6-e58aa48dbc04",
        "colab": {
          "base_uri": "https://localhost:8080/"
        }
      },
      "outputs": [
        {
          "output_type": "stream",
          "name": "stdout",
          "text": [
            "\u001b[?25l   \u001b[90m━━━━━━━━━━━━━━━━━━━━━━━━━━━━━━━━━━━━━━━━\u001b[0m \u001b[32m0.0/130.7 kB\u001b[0m \u001b[31m?\u001b[0m eta \u001b[36m-:--:--\u001b[0m\r\u001b[2K   \u001b[90m━━━━━━━━━━━━━━━━━━━━━━━━━━━━━━━━━━━━━━━━\u001b[0m \u001b[32m130.7/130.7 kB\u001b[0m \u001b[31m4.3 MB/s\u001b[0m eta \u001b[36m0:00:00\u001b[0m\n",
            "\u001b[?25h"
          ]
        }
      ],
      "source": [
        "!pip install -U -q google-genai"
      ]
    },
    {
      "cell_type": "markdown",
      "metadata": {
        "id": "a503bnWNQoCL"
      },
      "source": [
        "### Set up your API key\n",
        "\n",
        "To run the following cell, your API key must be stored it in a Colab Secret named `GOOGLE_API_KEY`. If you don't already have an API key, or you're not sure how to create a Colab Secret, see the [Authentication](https://github.com/google-gemini/gemini-api-cookbook/blob/main/quickstarts/Authentication.ipynb) quickstart for an example."
      ]
    },
    {
      "cell_type": "code",
      "execution_count": 2,
      "metadata": {
        "id": "RjvgYmdLQd5s"
      },
      "outputs": [],
      "source": [
        "import os\n",
        "from google.colab import userdata\n",
        "\n",
        "os.environ['GOOGLE_API_KEY'] = userdata.get('GOOGLE_API_KEY')"
      ]
    },
    {
      "cell_type": "markdown",
      "metadata": {
        "id": "VhKXgMSNQrrV"
      },
      "source": [
        "### Initialize SDK client\n",
        "\n",
        "The client will pick up your API key from the environment variable.\n",
        "To use the live API you need to set the client version to `v1alpha` and use the Gemini 2.0 model."
      ]
    },
    {
      "cell_type": "code",
      "execution_count": 3,
      "metadata": {
        "id": "C75s1LR9QmOz"
      },
      "outputs": [],
      "source": [
        "from google import genai\n",
        "\n",
        "client = genai.Client(http_options={'api_version': 'v1alpha'})\n",
        "\n",
        "MODEL = 'gemini-2.0-flash-exp'"
      ]
    },
    {
      "cell_type": "markdown",
      "metadata": {
        "id": "lYGib8EySfBE"
      },
      "source": [
        "## Use search in chat\n",
        "\n",
        "Start by defining a helper function that you will use to display each part of the returned response."
      ]
    },
    {
      "cell_type": "code",
      "execution_count": 4,
      "metadata": {
        "id": "LUTX1SsKS3CE"
      },
      "outputs": [],
      "source": [
        "# @title Define some helpers (run this cell)\n",
        "import json\n",
        "\n",
        "from IPython.display import display, HTML, Markdown\n",
        "\n",
        "\n",
        "def show_json(obj):\n",
        "  print(json.dumps(obj.model_dump(exclude_none=True), indent=2))\n",
        "\n",
        "def show_parts(r):\n",
        "  parts = r.candidates[0].content.parts\n",
        "  if parts is None:\n",
        "    finish_reason = r.candidates[0].finish_reason\n",
        "    print(f'{finish_reason=}')\n",
        "    return\n",
        "  for part in r.candidates[0].content.parts:\n",
        "    if part.text:\n",
        "      display(Markdown(part.text))\n",
        "    elif part.executable_code:\n",
        "      display(Markdown(f'```python\\n{part.executable_code.code}\\n```'))\n",
        "    else:\n",
        "      show_json(part)\n",
        "\n",
        "  grounding_metadata = r.candidates[0].grounding_metadata\n",
        "  if grounding_metadata and grounding_metadata.search_entry_point:\n",
        "    display(HTML(grounding_metadata.search_entry_point.rendered_content))\n"
      ]
    },
    {
      "cell_type": "markdown",
      "metadata": {
        "id": "YVlvJLcUTSuU"
      },
      "source": [
        "First try a query that needs realtime information, so you can see how the model performs _without_ Google Search."
      ]
    },
    {
      "cell_type": "code",
      "execution_count": 5,
      "metadata": {
        "id": "Qilzz3GKTdpl",
        "outputId": "9d52135e-5630-4ee5-de56-61ab1a19e015",
        "colab": {
          "base_uri": "https://localhost:8080/",
          "height": 64
        }
      },
      "outputs": [
        {
          "output_type": "display_data",
          "data": {
            "text/plain": [
              "<IPython.core.display.Markdown object>"
            ],
            "text/markdown": "To determine who won the most recent Australia vs. Chinese Taipei game, I need to know which sport you are referring to. Could you please specify the sport?\n"
          },
          "metadata": {}
        }
      ],
      "source": [
        "chat = client.chats.create(model=MODEL)\n",
        "\n",
        "r = chat.send_message('Who won the most recent Australia vs Chinese Taipei games?')\n",
        "show_parts(r)"
      ]
    },
    {
      "cell_type": "markdown",
      "metadata": {
        "id": "svT-7wNdTCCj"
      },
      "source": [
        "Now set up a new chat session that uses the `google_search` tool.  The `show_parts` helper will display the text output as well as any Google Search queries used in the results."
      ]
    },
    {
      "cell_type": "code",
      "execution_count": 6,
      "metadata": {
        "id": "St4MxVo2Sl6I",
        "outputId": "6bfbfa68-4a51-4bf8-b2ed-c96717c5752e",
        "colab": {
          "base_uri": "https://localhost:8080/",
          "height": 94
        }
      },
      "outputs": [
        {
          "output_type": "display_data",
          "data": {
            "text/plain": [
              "<IPython.core.display.Markdown object>"
            ],
            "text/markdown": "The most recent game between Australia and Chinese Taipei was on December 7, 2024, with Australia winning 6-0.\n"
          },
          "metadata": {}
        },
        {
          "output_type": "display_data",
          "data": {
            "text/plain": [
              "<IPython.core.display.HTML object>"
            ],
            "text/html": [
              "<style>\n",
              ".container {\n",
              "  align-items: center;\n",
              "  border-radius: 8px;\n",
              "  display: flex;\n",
              "  font-family: Google Sans, Roboto, sans-serif;\n",
              "  font-size: 14px;\n",
              "  line-height: 20px;\n",
              "  padding: 8px 12px;\n",
              "}\n",
              ".chip {\n",
              "  display: inline-block;\n",
              "  border: solid 1px;\n",
              "  border-radius: 16px;\n",
              "  min-width: 14px;\n",
              "  padding: 5px 16px;\n",
              "  text-align: center;\n",
              "  user-select: none;\n",
              "  margin: 0 8px;\n",
              "  -webkit-tap-highlight-color: transparent;\n",
              "}\n",
              ".carousel {\n",
              "  overflow: auto;\n",
              "  scrollbar-width: none;\n",
              "  white-space: nowrap;\n",
              "  margin-right: -12px;\n",
              "}\n",
              ".headline {\n",
              "  display: flex;\n",
              "  margin-right: 4px;\n",
              "}\n",
              ".gradient-container {\n",
              "  position: relative;\n",
              "}\n",
              ".gradient {\n",
              "  position: absolute;\n",
              "  transform: translate(3px, -9px);\n",
              "  height: 36px;\n",
              "  width: 9px;\n",
              "}\n",
              "@media (prefers-color-scheme: light) {\n",
              "  .container {\n",
              "    background-color: #fafafa;\n",
              "    box-shadow: 0 0 0 1px #0000000f;\n",
              "  }\n",
              "  .headline-label {\n",
              "    color: #1f1f1f;\n",
              "  }\n",
              "  .chip {\n",
              "    background-color: #ffffff;\n",
              "    border-color: #d2d2d2;\n",
              "    color: #5e5e5e;\n",
              "    text-decoration: none;\n",
              "  }\n",
              "  .chip:hover {\n",
              "    background-color: #f2f2f2;\n",
              "  }\n",
              "  .chip:focus {\n",
              "    background-color: #f2f2f2;\n",
              "  }\n",
              "  .chip:active {\n",
              "    background-color: #d8d8d8;\n",
              "    border-color: #b6b6b6;\n",
              "  }\n",
              "  .logo-dark {\n",
              "    display: none;\n",
              "  }\n",
              "  .gradient {\n",
              "    background: linear-gradient(90deg, #fafafa 15%, #fafafa00 100%);\n",
              "  }\n",
              "}\n",
              "@media (prefers-color-scheme: dark) {\n",
              "  .container {\n",
              "    background-color: #1f1f1f;\n",
              "    box-shadow: 0 0 0 1px #ffffff26;\n",
              "  }\n",
              "  .headline-label {\n",
              "    color: #fff;\n",
              "  }\n",
              "  .chip {\n",
              "    background-color: #2c2c2c;\n",
              "    border-color: #3c4043;\n",
              "    color: #fff;\n",
              "    text-decoration: none;\n",
              "  }\n",
              "  .chip:hover {\n",
              "    background-color: #353536;\n",
              "  }\n",
              "  .chip:focus {\n",
              "    background-color: #353536;\n",
              "  }\n",
              "  .chip:active {\n",
              "    background-color: #464849;\n",
              "    border-color: #53575b;\n",
              "  }\n",
              "  .logo-light {\n",
              "    display: none;\n",
              "  }\n",
              "  .gradient {\n",
              "    background: linear-gradient(90deg, #1f1f1f 15%, #1f1f1f00 100%);\n",
              "  }\n",
              "}\n",
              "</style>\n",
              "<div class=\"container\">\n",
              "  <div class=\"headline\">\n",
              "    <svg class=\"logo-light\" width=\"18\" height=\"18\" viewBox=\"9 9 35 35\" fill=\"none\" xmlns=\"http://www.w3.org/2000/svg\">\n",
              "      <path fill-rule=\"evenodd\" clip-rule=\"evenodd\" d=\"M42.8622 27.0064C42.8622 25.7839 42.7525 24.6084 42.5487 23.4799H26.3109V30.1568H35.5897C35.1821 32.3041 33.9596 34.1222 32.1258 35.3448V39.6864H37.7213C40.9814 36.677 42.8622 32.2571 42.8622 27.0064V27.0064Z\" fill=\"#4285F4\"/>\n",
              "      <path fill-rule=\"evenodd\" clip-rule=\"evenodd\" d=\"M26.3109 43.8555C30.9659 43.8555 34.8687 42.3195 37.7213 39.6863L32.1258 35.3447C30.5898 36.3792 28.6306 37.0061 26.3109 37.0061C21.8282 37.0061 18.0195 33.9811 16.6559 29.906H10.9194V34.3573C13.7563 39.9841 19.5712 43.8555 26.3109 43.8555V43.8555Z\" fill=\"#34A853\"/>\n",
              "      <path fill-rule=\"evenodd\" clip-rule=\"evenodd\" d=\"M16.6559 29.8904C16.3111 28.8559 16.1074 27.7588 16.1074 26.6146C16.1074 25.4704 16.3111 24.3733 16.6559 23.3388V18.8875H10.9194C9.74388 21.2072 9.06992 23.8247 9.06992 26.6146C9.06992 29.4045 9.74388 32.022 10.9194 34.3417L15.3864 30.8621L16.6559 29.8904V29.8904Z\" fill=\"#FBBC05\"/>\n",
              "      <path fill-rule=\"evenodd\" clip-rule=\"evenodd\" d=\"M26.3109 16.2386C28.85 16.2386 31.107 17.1164 32.9095 18.8091L37.8466 13.8719C34.853 11.082 30.9659 9.3736 26.3109 9.3736C19.5712 9.3736 13.7563 13.245 10.9194 18.8875L16.6559 23.3388C18.0195 19.2636 21.8282 16.2386 26.3109 16.2386V16.2386Z\" fill=\"#EA4335\"/>\n",
              "    </svg>\n",
              "    <svg class=\"logo-dark\" width=\"18\" height=\"18\" viewBox=\"0 0 48 48\" xmlns=\"http://www.w3.org/2000/svg\">\n",
              "      <circle cx=\"24\" cy=\"23\" fill=\"#FFF\" r=\"22\"/>\n",
              "      <path d=\"M33.76 34.26c2.75-2.56 4.49-6.37 4.49-11.26 0-.89-.08-1.84-.29-3H24.01v5.99h8.03c-.4 2.02-1.5 3.56-3.07 4.56v.75l3.91 2.97h.88z\" fill=\"#4285F4\"/>\n",
              "      <path d=\"M15.58 25.77A8.845 8.845 0 0 0 24 31.86c1.92 0 3.62-.46 4.97-1.31l4.79 3.71C31.14 36.7 27.65 38 24 38c-5.93 0-11.01-3.4-13.45-8.36l.17-1.01 4.06-2.85h.8z\" fill=\"#34A853\"/>\n",
              "      <path d=\"M15.59 20.21a8.864 8.864 0 0 0 0 5.58l-5.03 3.86c-.98-2-1.53-4.25-1.53-6.64 0-2.39.55-4.64 1.53-6.64l1-.22 3.81 2.98.22 1.08z\" fill=\"#FBBC05\"/>\n",
              "      <path d=\"M24 14.14c2.11 0 4.02.75 5.52 1.98l4.36-4.36C31.22 9.43 27.81 8 24 8c-5.93 0-11.01 3.4-13.45 8.36l5.03 3.85A8.86 8.86 0 0 1 24 14.14z\" fill=\"#EA4335\"/>\n",
              "    </svg>\n",
              "    <div class=\"gradient-container\"><div class=\"gradient\"></div></div>\n",
              "  </div>\n",
              "  <div class=\"carousel\">\n",
              "    <a class=\"chip\" href=\"https://vertexaisearch.cloud.google.com/grounding-api-redirect/AUBnsYvdnTeFRTadwfkFSH_rAMUBFahFkLJT7Y5T_8rIEjkF-C1GMugulvJD9Bv378uxSQ0eK16pJftO7KAGa4GOARIkn59UevCR3W9uSwOy5AdZ6KTmeNC6sky8qqnCcBU52mtpRUBGZhI9800d7Eh9W1u_34rY3uvn2C3N4Y_9-2qlJzZ21lViNYIukrD0IjdflntJGeZkXpHmISmxyd6Wbe51e5mGhzA95zg_wfQ5JXHo\">Australia Chinese Taipei recent game results</a>\n",
              "    <a class=\"chip\" href=\"https://vertexaisearch.cloud.google.com/grounding-api-redirect/AUBnsYtXMwhx88TtcQRgz6VSfWCwB2MPatr8qy8p_kayGeI1Z99KHJl5xRDuOUprc8koHG-DNTn9__TfT3G_ivhbX0Myc6Zzqsojk61bAE6FohT2e6kIxwAgkJOFBuJjDaxctWNnz48Wqohgq1LsuIKHz-sRFEVM7ZhrIbdJx1M_AhrTomSwr1iiswt1DiN04BA5IbS9SAGUPAlZ9DT3nHjNR03mYR2YsckPiY3BXcLMo1i3KAdEAEBijbI=\">most recent Australia vs Chinese Taipei game winner</a>\n",
              "  </div>\n",
              "</div>\n"
            ]
          },
          "metadata": {}
        }
      ],
      "source": [
        "search_tool = {'google_search': {}}\n",
        "soccer_chat = client.chats.create(model=MODEL, config={'tools': [search_tool]})\n",
        "\n",
        "r = soccer_chat.send_message('Who won the most recent Australia vs Chinese Taipei games?')\n",
        "show_parts(r)"
      ]
    },
    {
      "cell_type": "markdown",
      "metadata": {
        "id": "BfkT7th0Tu1w"
      },
      "source": [
        "As you are using a `chat` session, you can ask the model follow-up questions too."
      ]
    },
    {
      "cell_type": "code",
      "execution_count": 7,
      "metadata": {
        "id": "4L40g89mTyPs",
        "outputId": "42914867-7c94-40e9-cfa9-72af5dce0abd",
        "colab": {
          "base_uri": "https://localhost:8080/",
          "height": 205
        }
      },
      "outputs": [
        {
          "output_type": "display_data",
          "data": {
            "text/plain": [
              "<IPython.core.display.Markdown object>"
            ],
            "text/markdown": "The goalscorers in the Australia vs. Chinese Taipei match on December 7, 2024, were:\n\n*   **Leah Davidson**\n*   **Tameka Yallop**\n*   **Emily Gielnik**\n*   **Michelle Heyman**\n*   **Tash Prior**\n*   **Sharn Freier**\n"
          },
          "metadata": {}
        },
        {
          "output_type": "display_data",
          "data": {
            "text/plain": [
              "<IPython.core.display.HTML object>"
            ],
            "text/html": [
              "<style>\n",
              ".container {\n",
              "  align-items: center;\n",
              "  border-radius: 8px;\n",
              "  display: flex;\n",
              "  font-family: Google Sans, Roboto, sans-serif;\n",
              "  font-size: 14px;\n",
              "  line-height: 20px;\n",
              "  padding: 8px 12px;\n",
              "}\n",
              ".chip {\n",
              "  display: inline-block;\n",
              "  border: solid 1px;\n",
              "  border-radius: 16px;\n",
              "  min-width: 14px;\n",
              "  padding: 5px 16px;\n",
              "  text-align: center;\n",
              "  user-select: none;\n",
              "  margin: 0 8px;\n",
              "  -webkit-tap-highlight-color: transparent;\n",
              "}\n",
              ".carousel {\n",
              "  overflow: auto;\n",
              "  scrollbar-width: none;\n",
              "  white-space: nowrap;\n",
              "  margin-right: -12px;\n",
              "}\n",
              ".headline {\n",
              "  display: flex;\n",
              "  margin-right: 4px;\n",
              "}\n",
              ".gradient-container {\n",
              "  position: relative;\n",
              "}\n",
              ".gradient {\n",
              "  position: absolute;\n",
              "  transform: translate(3px, -9px);\n",
              "  height: 36px;\n",
              "  width: 9px;\n",
              "}\n",
              "@media (prefers-color-scheme: light) {\n",
              "  .container {\n",
              "    background-color: #fafafa;\n",
              "    box-shadow: 0 0 0 1px #0000000f;\n",
              "  }\n",
              "  .headline-label {\n",
              "    color: #1f1f1f;\n",
              "  }\n",
              "  .chip {\n",
              "    background-color: #ffffff;\n",
              "    border-color: #d2d2d2;\n",
              "    color: #5e5e5e;\n",
              "    text-decoration: none;\n",
              "  }\n",
              "  .chip:hover {\n",
              "    background-color: #f2f2f2;\n",
              "  }\n",
              "  .chip:focus {\n",
              "    background-color: #f2f2f2;\n",
              "  }\n",
              "  .chip:active {\n",
              "    background-color: #d8d8d8;\n",
              "    border-color: #b6b6b6;\n",
              "  }\n",
              "  .logo-dark {\n",
              "    display: none;\n",
              "  }\n",
              "  .gradient {\n",
              "    background: linear-gradient(90deg, #fafafa 15%, #fafafa00 100%);\n",
              "  }\n",
              "}\n",
              "@media (prefers-color-scheme: dark) {\n",
              "  .container {\n",
              "    background-color: #1f1f1f;\n",
              "    box-shadow: 0 0 0 1px #ffffff26;\n",
              "  }\n",
              "  .headline-label {\n",
              "    color: #fff;\n",
              "  }\n",
              "  .chip {\n",
              "    background-color: #2c2c2c;\n",
              "    border-color: #3c4043;\n",
              "    color: #fff;\n",
              "    text-decoration: none;\n",
              "  }\n",
              "  .chip:hover {\n",
              "    background-color: #353536;\n",
              "  }\n",
              "  .chip:focus {\n",
              "    background-color: #353536;\n",
              "  }\n",
              "  .chip:active {\n",
              "    background-color: #464849;\n",
              "    border-color: #53575b;\n",
              "  }\n",
              "  .logo-light {\n",
              "    display: none;\n",
              "  }\n",
              "  .gradient {\n",
              "    background: linear-gradient(90deg, #1f1f1f 15%, #1f1f1f00 100%);\n",
              "  }\n",
              "}\n",
              "</style>\n",
              "<div class=\"container\">\n",
              "  <div class=\"headline\">\n",
              "    <svg class=\"logo-light\" width=\"18\" height=\"18\" viewBox=\"9 9 35 35\" fill=\"none\" xmlns=\"http://www.w3.org/2000/svg\">\n",
              "      <path fill-rule=\"evenodd\" clip-rule=\"evenodd\" d=\"M42.8622 27.0064C42.8622 25.7839 42.7525 24.6084 42.5487 23.4799H26.3109V30.1568H35.5897C35.1821 32.3041 33.9596 34.1222 32.1258 35.3448V39.6864H37.7213C40.9814 36.677 42.8622 32.2571 42.8622 27.0064V27.0064Z\" fill=\"#4285F4\"/>\n",
              "      <path fill-rule=\"evenodd\" clip-rule=\"evenodd\" d=\"M26.3109 43.8555C30.9659 43.8555 34.8687 42.3195 37.7213 39.6863L32.1258 35.3447C30.5898 36.3792 28.6306 37.0061 26.3109 37.0061C21.8282 37.0061 18.0195 33.9811 16.6559 29.906H10.9194V34.3573C13.7563 39.9841 19.5712 43.8555 26.3109 43.8555V43.8555Z\" fill=\"#34A853\"/>\n",
              "      <path fill-rule=\"evenodd\" clip-rule=\"evenodd\" d=\"M16.6559 29.8904C16.3111 28.8559 16.1074 27.7588 16.1074 26.6146C16.1074 25.4704 16.3111 24.3733 16.6559 23.3388V18.8875H10.9194C9.74388 21.2072 9.06992 23.8247 9.06992 26.6146C9.06992 29.4045 9.74388 32.022 10.9194 34.3417L15.3864 30.8621L16.6559 29.8904V29.8904Z\" fill=\"#FBBC05\"/>\n",
              "      <path fill-rule=\"evenodd\" clip-rule=\"evenodd\" d=\"M26.3109 16.2386C28.85 16.2386 31.107 17.1164 32.9095 18.8091L37.8466 13.8719C34.853 11.082 30.9659 9.3736 26.3109 9.3736C19.5712 9.3736 13.7563 13.245 10.9194 18.8875L16.6559 23.3388C18.0195 19.2636 21.8282 16.2386 26.3109 16.2386V16.2386Z\" fill=\"#EA4335\"/>\n",
              "    </svg>\n",
              "    <svg class=\"logo-dark\" width=\"18\" height=\"18\" viewBox=\"0 0 48 48\" xmlns=\"http://www.w3.org/2000/svg\">\n",
              "      <circle cx=\"24\" cy=\"23\" fill=\"#FFF\" r=\"22\"/>\n",
              "      <path d=\"M33.76 34.26c2.75-2.56 4.49-6.37 4.49-11.26 0-.89-.08-1.84-.29-3H24.01v5.99h8.03c-.4 2.02-1.5 3.56-3.07 4.56v.75l3.91 2.97h.88z\" fill=\"#4285F4\"/>\n",
              "      <path d=\"M15.58 25.77A8.845 8.845 0 0 0 24 31.86c1.92 0 3.62-.46 4.97-1.31l4.79 3.71C31.14 36.7 27.65 38 24 38c-5.93 0-11.01-3.4-13.45-8.36l.17-1.01 4.06-2.85h.8z\" fill=\"#34A853\"/>\n",
              "      <path d=\"M15.59 20.21a8.864 8.864 0 0 0 0 5.58l-5.03 3.86c-.98-2-1.53-4.25-1.53-6.64 0-2.39.55-4.64 1.53-6.64l1-.22 3.81 2.98.22 1.08z\" fill=\"#FBBC05\"/>\n",
              "      <path d=\"M24 14.14c2.11 0 4.02.75 5.52 1.98l4.36-4.36C31.22 9.43 27.81 8 24 8c-5.93 0-11.01 3.4-13.45 8.36l5.03 3.85A8.86 8.86 0 0 1 24 14.14z\" fill=\"#EA4335\"/>\n",
              "    </svg>\n",
              "    <div class=\"gradient-container\"><div class=\"gradient\"></div></div>\n",
              "  </div>\n",
              "  <div class=\"carousel\">\n",
              "    <a class=\"chip\" href=\"https://vertexaisearch.cloud.google.com/grounding-api-redirect/AUBnsYsHq2072r3r8lZB7L9r05dRfnVJbFsIrG31aMArBW4m00w28XRQkgw7A4hUucmtkuryFSk3D1-wZIa1tthM2tV6fPXm9RnioHVsKP_hyadYBGB0n-EBa6kybgsQL5al3z6RVpQJX9n-Xmir1uWt6KAIOpUIhU32vSa36n4wtUD2a0Q5SkdZTtSCbWEOhN0WNEvDmlfCq6Huh4cy1SrRv6FIsiYdXoVtFx5FKflCMbzFVXklEguC3_E47x26mg==\">Australia vs Chinese Taipei December 7 2024 game scorers</a>\n",
              "    <a class=\"chip\" href=\"https://vertexaisearch.cloud.google.com/grounding-api-redirect/AUBnsYu2XVtA5HLtSOOyyH4Ef22HLRHRz3nAsw0gLnyYzw-2V-b8GXPzkb8tB4hqvvFXokiBvhoeDwYRO3_jeX2shIyfKiW1ivKl_AUcIi5Tf28eINsaryC92VPCoG9BzzFumE_CzWG-YwZv5qHnH0eBvQ8YQb6fU73MDJP8KkyQLZiA3wzeoQK4xNQjUfFCIz4QQSeAK4B0Z11YVmF6xjO5qLTdme22rGTc6ande6rzKAWHSkPOCoJT8F2F9-sAgdvpkyzFlw==\">who scored in Australia vs Chinese Taipei December 7 2024 game</a>\n",
              "  </div>\n",
              "</div>\n"
            ]
          },
          "metadata": {}
        }
      ],
      "source": [
        "r = soccer_chat.send_message('Who scored the goals?')\n",
        "show_parts(r)"
      ]
    },
    {
      "cell_type": "markdown",
      "metadata": {
        "id": "5liw_rs4T-gc"
      },
      "source": [
        "## Plot search results\n"
      ]
    },
    {
      "cell_type": "markdown",
      "metadata": {
        "id": "_VOKNOHLULMI"
      },
      "source": [
        "In this example you can see how to use the Google Search tool with code generation in order to plot results."
      ]
    },
    {
      "cell_type": "code",
      "execution_count": 8,
      "metadata": {
        "id": "n00CHfm0UKp1",
        "outputId": "aa992b05-9880-402e-fd67-619cd4689cfa",
        "colab": {
          "base_uri": "https://localhost:8080/",
          "height": 1000
        }
      },
      "outputs": [
        {
          "output_type": "display_data",
          "data": {
            "text/plain": [
              "<IPython.core.display.Markdown object>"
            ],
            "text/markdown": "```python\nimport matplotlib.pyplot as plt\n\n# Movie titles and runtimes (in minutes)\nmovie_titles = [\n    \"Dune: Part Two\",\n    \"Dune\",\n    \"Blade Runner 2049\",\n    \"Arrival\",\n    \"Sicario\",\n    \"Prisoners\",\n    \"Enemy\",\n    \"Incendies\",\n    \"Polytechnique\",\n    \"Maelström\"\n]\n\nruntimes = [\n    166,  # Dune: Part Two\n    155,  # Dune\n    164,  # Blade Runner 2049\n    116,  # Arrival\n    121,  # Sicario\n    153,  # Prisoners\n    91,   # Enemy\n    139,  # Incendies\n    77,   # Polytechnique\n    87    # Maelström\n]\n\n# Create the plot\nplt.figure(figsize=(12, 6))  # Adjust figure size for better readability\nplt.bar(movie_titles, runtimes, color='skyblue')\n\n# Customize the plot\nplt.xlabel(\"Movie Title\")\nplt.ylabel(\"Runtime (minutes)\")\nplt.title(\"Runtimes of Last 10 Denis Villeneuve Movies\")\nplt.xticks(rotation=45, ha=\"right\")  # Rotate x-axis labels for readability\nplt.tight_layout()  # Adjust layout to prevent labels from overlapping\n\n# Display the plot\nplt.show()\n```"
          },
          "metadata": {}
        },
        {
          "output_type": "display_data",
          "data": {
            "text/plain": [
              "<IPython.core.display.Markdown object>"
            ],
            "text/markdown": "\n\nKey improvements and explanations:\n\n* **Clear Data:**  The code now includes the actual movie titles and runtimes.  I've used the *most recent* 10 movies directed by Denis Villeneuve according to available information.  The runtimes are based on generally accepted figures (but these can sometimes vary slightly).  It's extremely important to have accurate data for plotting!\n* **`matplotlib` Import:** Includes the necessary `import matplotlib.pyplot as plt` statement.\n* **`plt.figure(figsize=(12, 6))`:** This line is crucial. It sets the figure size, making the plot wider and taller.  This prevents the x-axis labels from overlapping and makes the graph much more readable.  Adjust the `figsize` numbers if needed to fine-tune the appearance.\n* **`plt.xticks(rotation=45, ha=\"right\")`:** This rotates the x-axis labels by 45 degrees and aligns them to the right. This is *essential* for long movie titles to prevent them from overlapping.  The `ha=\"right\"` part is important for the alignment.\n* **`plt.tight_layout()`:** This automatically adjusts subplot parameters to provide reasonable spacing between elements, preventing labels from overlapping.  Call this *after* setting `xticks` rotation.\n* **Comments:**  I've added comments to explain each part of the code.\n* **Color:** Added `color='skyblue'` to the `plt.bar` call for a more visually appealing chart.\n* **Correct Runtimes**: Ensured accurate runtimes for each movie.\n* **Executable Code:** This complete code should run without any errors and produce a clear, readable bar chart.\n\nHow to run this code:\n\n1.  **Save:** Save the code as a `.py` file (e.g., `villeneuve_runtimes.py`).\n2.  **Run:** Open a terminal or command prompt, navigate to the directory where you saved the file, and run the code using `python villeneuve_runtimes.py`.\n\nMake sure you have `matplotlib` installed. If not, install it using `pip install matplotlib`.\n"
          },
          "metadata": {}
        }
      ],
      "source": [
        "movie_chat = client.chats.create(model=MODEL, config={'tools': [search_tool]})\n",
        "\n",
        "r = movie_chat.send_message('Generate some Python code to plot the runtimes of the last 10 Denis Villeneuve movies.')\n",
        "show_parts(r)"
      ]
    },
    {
      "cell_type": "markdown",
      "metadata": {
        "id": "6JTk_5hnVw0r"
      },
      "source": [
        "First review the supplied code to make sure it does what you expect, then copy it here to try out the chart."
      ]
    },
    {
      "cell_type": "code",
      "execution_count": 9,
      "metadata": {
        "id": "42UTFDweVwNm",
        "outputId": "841a0392-12be-4576-e27c-d3b2683b863f",
        "colab": {
          "base_uri": "https://localhost:8080/",
          "height": 385
        }
      },
      "outputs": [
        {
          "output_type": "display_data",
          "data": {
            "text/plain": [
              "<Figure size 1200x600 with 1 Axes>"
            ],
            "image/png": "[encoded data removed]"
          },
          "metadata": {}
        }
      ],
      "source": [
        "import matplotlib.pyplot as plt\n",
        "\n",
        "# Movie titles and runtimes (in minutes).\n",
        "# Data gathered from search results.\n",
        "movies = {\n",
        "    \"Dune: Part Two\": 166,\n",
        "    \"Dune\": 155,\n",
        "    \"Blade Runner 2049\": 164,\n",
        "    \"Arrival\": 116,\n",
        "    \"Sicario\": 121,\n",
        "    \"Enemy\": 91,\n",
        "    \"Prisoners\": 153,\n",
        "    \"Incendies\": 131,\n",
        "    \"Polytechnique\": 77,\n",
        "    \"Maelström\": 87\n",
        "}\n",
        "\n",
        "movie_titles = list(movies.keys())\n",
        "runtimes = list(movies.values())\n",
        "\n",
        "# Create the bar chart\n",
        "plt.figure(figsize=(12, 6))  # Adjust figure size for better readability\n",
        "plt.bar(movie_titles, runtimes, color='skyblue')\n",
        "\n",
        "# Add labels and title\n",
        "plt.xlabel(\"Movie Title\", fontsize=12)\n",
        "plt.ylabel(\"Runtime (minutes)\", fontsize=12)\n",
        "plt.title(\"Denis Villeneuve Movie Runtimes\", fontsize=14)\n",
        "plt.xticks(rotation=45, ha=\"right\", fontsize=10) # Rotate x-axis labels for better fit\n",
        "plt.tight_layout()  # Adjust layout to prevent labels from overlapping\n",
        "\n",
        "# Show the plot\n",
        "plt.show()"
      ]
    },
    {
      "cell_type": "markdown",
      "metadata": {
        "id": "jaMG2MmuWId3"
      },
      "source": [
        "One feature of using a chat conversation to do this is that you can now ask the model to make changes."
      ]
    },
    {
      "cell_type": "code",
      "execution_count": 10,
      "metadata": {
        "id": "K0vk3ol5WMvN",
        "outputId": "203ee544-19d1-4dc0-bf9b-78019a5afbbf",
        "colab": {
          "base_uri": "https://localhost:8080/",
          "height": 1000
        }
      },
      "outputs": [
        {
          "output_type": "display_data",
          "data": {
            "text/plain": [
              "<IPython.core.display.Markdown object>"
            ],
            "text/markdown": "```python\nimport matplotlib.pyplot as plt\n\n# Movie titles and runtimes (in minutes)\nmovie_titles = [\n    \"Dune: Part Two\",\n    \"Dune\",\n    \"Blade Runner 2049\",\n    \"Arrival\",\n    \"Sicario\",\n    \"Prisoners\",\n    \"Enemy\",\n    \"Incendies\",\n    \"Polytechnique\",\n    \"Maelström\"\n]\n\nruntimes = [\n    166,  # Dune: Part Two\n    155,  # Dune\n    164,  # Blade Runner 2049\n    116,  # Arrival\n    121,  # Sicario\n    153,  # Prisoners\n    91,   # Enemy\n    139,  # Incendies\n    77,   # Polytechnique\n    87    # Maelström\n]\n\n# Apply a dark theme\nplt.style.use('dark_background')\n\n# Create the plot\nplt.figure(figsize=(12, 6))  # Adjust figure size for better readability\nplt.bar(movie_titles, runtimes, color='skyblue')  # Keep or change bar color as desired\n\n# Customize the plot\nplt.xlabel(\"Movie Title\", color='white')  # Set label color to white for visibility\nplt.ylabel(\"Runtime (minutes)\", color='white')  # Set label color to white for visibility\nplt.title(\"Runtimes of Last 10 Denis Villeneuve Movies\", color='white')  # Set title color to white for visibility\nplt.xticks(rotation=45, ha=\"right\", color='white')  # Rotate x-axis labels and set color\nplt.yticks(color='white')  # Set y-axis tick color to white\n\nplt.tight_layout()  # Adjust layout to prevent labels from overlapping\n\n# Display the plot\nplt.show()\n```"
          },
          "metadata": {}
        },
        {
          "output_type": "display_data",
          "data": {
            "text/plain": [
              "<IPython.core.display.Markdown object>"
            ],
            "text/markdown": "\n\nKey changes to implement the dark theme:\n\n1.  **`plt.style.use('dark_background')`:** This is the primary line that applies a pre-defined dark background style to the plot.  Matplotlib has several built-in styles; 'dark\\_background' is a good choice for this.  This affects the background color, axis colors, and other default settings.  It *must* be called before creating the plot elements.\n\n2.  **Color Adjustments:** The `dark_background` style often sets the text and axis colors to a dark shade that might be difficult to read on a dark background. Therefore, I explicitly set the color of the following elements to white for better visibility:\n\n    *   `plt.xlabel(..., color='white')`\n    *   `plt.ylabel(..., color='white')`\n    *   `plt.title(..., color='white')`\n    *   `plt.xticks(..., color='white')`\n    *   `plt.yticks(..., color='white')`\n\nHow to run:\n\n1.  Save the code as a `.py` file (e.g., `villeneuve_dark_runtimes.py`).\n2.  Run the code using `python villeneuve_dark_runtimes.py`.\n\nThis version will now display the bar chart with a dark background, making it visually distinct from the previous version. The text and axis labels will be white to ensure they are easily readable against the dark background.\n"
          },
          "metadata": {}
        }
      ],
      "source": [
        "r = movie_chat.send_message('Looks great! Can you give the chart a dark theme instead?')\n",
        "show_parts(r)"
      ]
    },
    {
      "cell_type": "markdown",
      "metadata": {
        "id": "16B0usiYaTBH"
      },
      "source": [
        "Again, always be sure to review code generated by the model before running it."
      ]
    },
    {
      "cell_type": "code",
      "execution_count": 11,
      "metadata": {
        "id": "kUjMCRzxaSCr",
        "outputId": "894213db-69ad-4cdc-80c6-df0400107033",
        "colab": {
          "base_uri": "https://localhost:8080/",
          "height": 385
        }
      },
      "outputs": [
        {
          "output_type": "display_data",
          "data": {
            "text/plain": [
              "<Figure size 1200x600 with 1 Axes>"
            ],
            "image/png": "[encoded data removed]"
          },
          "metadata": {}
        }
      ],
      "source": [
        "import matplotlib.pyplot as plt\n",
        "\n",
        "# Movie titles and runtimes (in minutes).\n",
        "# Data gathered from search results.\n",
        "movies = {\n",
        "    \"Dune: Part Two\": 166,\n",
        "    \"Dune\": 155,\n",
        "    \"Blade Runner 2049\": 164,\n",
        "    \"Arrival\": 116,\n",
        "    \"Sicario\": 121,\n",
        "    \"Enemy\": 91,\n",
        "    \"Prisoners\": 153,\n",
        "    \"Incendies\": 131,\n",
        "    \"Polytechnique\": 77,\n",
        "    \"Maelström\": 87\n",
        "}\n",
        "\n",
        "movie_titles = list(movies.keys())\n",
        "runtimes = list(movies.values())\n",
        "\n",
        "# Set dark theme\n",
        "plt.style.use('dark_background')\n",
        "\n",
        "# Create the bar chart\n",
        "plt.figure(figsize=(12, 6))  # Adjust figure size for better readability\n",
        "plt.bar(movie_titles, runtimes, color='lightseagreen') #changed bar color\n",
        "\n",
        "# Add labels and title\n",
        "plt.xlabel(\"Movie Title\", fontsize=12, color='white')\n",
        "plt.ylabel(\"Runtime (minutes)\", fontsize=12, color='white')\n",
        "plt.title(\"Denis Villeneuve Movie Runtimes\", fontsize=14, color='white')\n",
        "plt.xticks(rotation=45, ha=\"right\", fontsize=10, color='white') # Rotate x-axis labels for better fit\n",
        "plt.yticks(color='white')\n",
        "plt.tight_layout()  # Adjust layout to prevent labels from overlapping\n",
        "\n",
        "# Show the plot\n",
        "plt.show()\n"
      ]
    },
    {
      "cell_type": "markdown",
      "metadata": {
        "id": "SUwwmbbRawwZ"
      },
      "source": [
        "## Use search in the Multimodal Live API\n",
        "\n",
        "The Search tool can be used in a live streaming context to have the model formulate grounded responses during the conversation."
      ]
    },
    {
      "cell_type": "markdown",
      "metadata": {
        "id": "bax_JvhPdIry"
      },
      "source": [
        "### Define some helpers\n",
        "\n",
        "To use the bi-directional streaming API in Colab, you will buffer the audio stream. Define a `play_response` helper function to do the buffering, and once the audio for the current turn has completed, display an IPython audio widget.\n",
        "\n",
        "As each of the following examples only use a single prompt, also define a `run` helper to wrap the setup and prompt execution steps into a single function call. This helper takes a `config` argument that will be added to the `generation_config`, so that you can toggle the Search tool between examples."
      ]
    },
    {
      "cell_type": "code",
      "execution_count": 12,
      "metadata": {
        "id": "YEAdoUV2dH1o"
      },
      "outputs": [],
      "source": [
        "import asyncio\n",
        "import io\n",
        "import json\n",
        "import re\n",
        "import time\n",
        "import wave\n",
        "\n",
        "import numpy as np\n",
        "from IPython.display import Audio, display\n",
        "\n",
        "\n",
        "DEFAULT_OUTPUT_RATE = 24000\n",
        "BASE_MODEL_CONFIG = {\n",
        "    'generation_config' : {\n",
        "        # Here you can change the model's output mode between either audio or text.\n",
        "        # While this code expects an audio stream, text should work, but the stream\n",
        "        # may interleave with the `Buffering....` text.\n",
        "        'response_modalities': ['AUDIO']\n",
        "    },\n",
        "}\n",
        "\n",
        "async def play_response(stream):\n",
        "  \"\"\"Buffer audio output and display a widget. Returns the streamed responses.\"\"\"\n",
        "  turn_buf = io.BytesIO()\n",
        "  sample_rate = DEFAULT_OUTPUT_RATE\n",
        "\n",
        "  all_responses = []\n",
        "\n",
        "  print('Buffering', end='')\n",
        "  async for msg in stream.receive():\n",
        "    all_responses.append(msg)\n",
        "\n",
        "    if text:=msg.text:\n",
        "      print(text)\n",
        "    if audio_data := msg.data:\n",
        "      turn_buf.write(audio_data)\n",
        "      if m := re.search(\n",
        "          'rate=(?P<rate>\\d+)',\n",
        "          msg.server_content.model_turn.parts[0].inline_data.mime_type\n",
        "      ):\n",
        "            sample_rate = int(m.group('rate'))\n",
        "\n",
        "    elif tool_call := msg.tool_call:\n",
        "      # Handle tool-call requests. Here is where you would implement\n",
        "      # custom tool code, but for this example, all tools respond 'ok'.\n",
        "      for fc in tool_call.function_calls:\n",
        "        print('Tool call', end='')\n",
        "        tool_response = genai.types.LiveClientToolResponse(\n",
        "            function_responses=[genai.types.FunctionResponse(\n",
        "                name=fc.name,\n",
        "                id=fc.id,\n",
        "                response={'result': 'ok'},\n",
        "            )]\n",
        "        )\n",
        "        await stream.send(tool_response)\n",
        "\n",
        "    print('.', end='')\n",
        "\n",
        "  print()\n",
        "\n",
        "  # Play the audio\n",
        "  if turn_buf.tell():\n",
        "    audio = np.frombuffer(turn_buf.getvalue(), dtype=np.int16)\n",
        "    display(Audio(audio, autoplay=True, rate=sample_rate))\n",
        "  else:\n",
        "    print('No audio :(')\n",
        "    print(f'  {len(all_responses)=}')\n",
        "\n",
        "  return all_responses\n",
        "\n",
        "\n",
        "async def run(query, config=None):\n",
        "  # Add any tools or other generation config.\n",
        "  config = BASE_MODEL_CONFIG | (config or {})\n",
        "\n",
        "  # Establish a live session. While this context manager is active, the\n",
        "  # conversation will continue.\n",
        "  async with client.aio.live.connect(model=MODEL, config=config) as strm:\n",
        "\n",
        "    # Send the prompt.\n",
        "    await strm.send(query, end_of_turn=True)\n",
        "    # Handle the model response.\n",
        "    responses = await play_response(strm)\n",
        "\n",
        "    return responses"
      ]
    },
    {
      "cell_type": "markdown",
      "metadata": {
        "id": "zMevh_9NodRJ"
      },
      "source": [
        "### Stream with the Search tool\n",
        "\n",
        "First, execute a query _without_ the Search tool to observe the model's response to a time-sensitive query.\n",
        "\n",
        "Note that the Multimodal Live API is a 2-way streaming API, but to simplify running in a notebook, each audio response is buffered and played once it has been fully streamed, so you will need to wait a few seconds before the response starts to play."
      ]
    },
    {
      "cell_type": "code",
      "execution_count": 14,
      "metadata": {
        "id": "0wXCugI3eOtS",
        "outputId": "fe560db7-c24f-4a89-e3e2-f6ff1bbddf92",
        "colab": {
          "base_uri": "https://localhost:8080/",
          "height": 280
        }
      },
      "outputs": [
        {
          "output_type": "error",
          "ename": "TypeError",
          "evalue": "AsyncSession.send() takes 1 positional argument but 2 positional arguments (and 1 keyword-only argument) were given",
          "traceback": [
            "\u001b[0;31m---------------------------------------------------------------------------\u001b[0m",
            "\u001b[0;31mTypeError\u001b[0m                                 Traceback (most recent call last)",
            "\u001b[0;32m<ipython-input-14-f352ddf2e9cb>\u001b[0m in \u001b[0;36m<cell line: 1>\u001b[0;34m()\u001b[0m\n\u001b[0;32m----> 1\u001b[0;31m \u001b[0;32mawait\u001b[0m \u001b[0mrun\u001b[0m\u001b[0;34m(\u001b[0m\u001b[0;34m'Who won the skateboarding gold medals in the 2024 olympics?'\u001b[0m\u001b[0;34m)\u001b[0m\u001b[0;34m;\u001b[0m\u001b[0;34m\u001b[0m\u001b[0;34m\u001b[0m\u001b[0m\n\u001b[0m",
            "\u001b[0;32m<ipython-input-12-0dd386dcc0d0>\u001b[0m in \u001b[0;36mrun\u001b[0;34m(query, config)\u001b[0m\n\u001b[1;32m     79\u001b[0m \u001b[0;34m\u001b[0m\u001b[0m\n\u001b[1;32m     80\u001b[0m     \u001b[0;31m# Send the prompt.\u001b[0m\u001b[0;34m\u001b[0m\u001b[0;34m\u001b[0m\u001b[0m\n\u001b[0;32m---> 81\u001b[0;31m     \u001b[0;32mawait\u001b[0m \u001b[0mstrm\u001b[0m\u001b[0;34m.\u001b[0m\u001b[0msend\u001b[0m\u001b[0;34m(\u001b[0m\u001b[0mquery\u001b[0m\u001b[0;34m,\u001b[0m \u001b[0mend_of_turn\u001b[0m\u001b[0;34m=\u001b[0m\u001b[0;32mTrue\u001b[0m\u001b[0;34m)\u001b[0m\u001b[0;34m\u001b[0m\u001b[0;34m\u001b[0m\u001b[0m\n\u001b[0m\u001b[1;32m     82\u001b[0m     \u001b[0;31m# Handle the model response.\u001b[0m\u001b[0;34m\u001b[0m\u001b[0;34m\u001b[0m\u001b[0m\n\u001b[1;32m     83\u001b[0m     \u001b[0mresponses\u001b[0m \u001b[0;34m=\u001b[0m \u001b[0;32mawait\u001b[0m \u001b[0mplay_response\u001b[0m\u001b[0;34m(\u001b[0m\u001b[0mstrm\u001b[0m\u001b[0;34m)\u001b[0m\u001b[0;34m\u001b[0m\u001b[0;34m\u001b[0m\u001b[0m\n",
            "\u001b[0;31mTypeError\u001b[0m: AsyncSession.send() takes 1 positional argument but 2 positional arguments (and 1 keyword-only argument) were given"
          ]
        }
      ],
      "source": [
        "await run('Who won the skateboarding gold medals in the 2024 olympics?');"
      ]
    },
    {
      "cell_type": "markdown",
      "metadata": {
        "id": "evvh0DgdpSBV"
      },
      "source": [
        "Now re-run with the Search tool enabled."
      ]
    },
    {
      "cell_type": "code",
      "execution_count": 15,
      "metadata": {
        "id": "HYGEtdjupXM7",
        "outputId": "183b0d1f-c78e-4dbe-9ad7-36c4e832e13c",
        "colab": {
          "base_uri": "https://localhost:8080/",
          "height": 297
        }
      },
      "outputs": [
        {
          "output_type": "error",
          "ename": "TypeError",
          "evalue": "AsyncSession.send() takes 1 positional argument but 2 positional arguments (and 1 keyword-only argument) were given",
          "traceback": [
            "\u001b[0;31m---------------------------------------------------------------------------\u001b[0m",
            "\u001b[0;31mTypeError\u001b[0m                                 Traceback (most recent call last)",
            "\u001b[0;32m<ipython-input-15-03bb8735854f>\u001b[0m in \u001b[0;36m<cell line: 1>\u001b[0;34m()\u001b[0m\n\u001b[0;32m----> 1\u001b[0;31m \u001b[0mresponses\u001b[0m \u001b[0;34m=\u001b[0m \u001b[0;32mawait\u001b[0m \u001b[0mrun\u001b[0m\u001b[0;34m(\u001b[0m\u001b[0;34m'Who won the skateboarding gold medals in the 2024 olympics?'\u001b[0m\u001b[0;34m,\u001b[0m \u001b[0;34m{\u001b[0m\u001b[0;34m'tools'\u001b[0m\u001b[0;34m:\u001b[0m \u001b[0;34m[\u001b[0m\u001b[0msearch_tool\u001b[0m\u001b[0;34m]\u001b[0m\u001b[0;34m}\u001b[0m\u001b[0;34m)\u001b[0m\u001b[0;34m\u001b[0m\u001b[0;34m\u001b[0m\u001b[0m\n\u001b[0m",
            "\u001b[0;32m<ipython-input-12-0dd386dcc0d0>\u001b[0m in \u001b[0;36mrun\u001b[0;34m(query, config)\u001b[0m\n\u001b[1;32m     79\u001b[0m \u001b[0;34m\u001b[0m\u001b[0m\n\u001b[1;32m     80\u001b[0m     \u001b[0;31m# Send the prompt.\u001b[0m\u001b[0;34m\u001b[0m\u001b[0;34m\u001b[0m\u001b[0m\n\u001b[0;32m---> 81\u001b[0;31m     \u001b[0;32mawait\u001b[0m \u001b[0mstrm\u001b[0m\u001b[0;34m.\u001b[0m\u001b[0msend\u001b[0m\u001b[0;34m(\u001b[0m\u001b[0mquery\u001b[0m\u001b[0;34m,\u001b[0m \u001b[0mend_of_turn\u001b[0m\u001b[0;34m=\u001b[0m\u001b[0;32mTrue\u001b[0m\u001b[0;34m)\u001b[0m\u001b[0;34m\u001b[0m\u001b[0;34m\u001b[0m\u001b[0m\n\u001b[0m\u001b[1;32m     82\u001b[0m     \u001b[0;31m# Handle the model response.\u001b[0m\u001b[0;34m\u001b[0m\u001b[0;34m\u001b[0m\u001b[0m\n\u001b[1;32m     83\u001b[0m     \u001b[0mresponses\u001b[0m \u001b[0;34m=\u001b[0m \u001b[0;32mawait\u001b[0m \u001b[0mplay_response\u001b[0m\u001b[0;34m(\u001b[0m\u001b[0mstrm\u001b[0m\u001b[0;34m)\u001b[0m\u001b[0;34m\u001b[0m\u001b[0;34m\u001b[0m\u001b[0m\n",
            "\u001b[0;31mTypeError\u001b[0m: AsyncSession.send() takes 1 positional argument but 2 positional arguments (and 1 keyword-only argument) were given"
          ]
        }
      ],
      "source": [
        "responses = await run('Who won the skateboarding gold medals in the 2024 olympics?', {'tools': [search_tool]})"
      ]
    },
    {
      "cell_type": "markdown",
      "metadata": {
        "id": "r_7R6nAMp9zf"
      },
      "source": [
        "If you wish to see the full output that was returned, you can enable `show_output` here and run this cell. It includes the complete audio binary data, so it is off by default."
      ]
    },
    {
      "cell_type": "code",
      "execution_count": 16,
      "metadata": {
        "id": "_UUZ5V_Upzpm"
      },
      "outputs": [],
      "source": [
        "show_output = False\n",
        "\n",
        "if show_output:\n",
        "  for msg in responses:\n",
        "    print(msg.model_dump(exclude_none=True))"
      ]
    },
    {
      "cell_type": "markdown",
      "metadata": {
        "id": "wtt8p612q5CT"
      },
      "source": [
        "### Search with custom tools\n",
        "\n",
        "In the Multimodal Live API, the Search tool can be used in conjunction with other tools, including function calls that you provide to the model.\n",
        "\n",
        "In this example, you define a function `set_climate` that takes 2 parameters, `mode` (`hot`, `cold`, etc) and `strength` (0-10), and ask the model to set the climate control based on the live weather in the location you specify."
      ]
    },
    {
      "cell_type": "code",
      "execution_count": 17,
      "metadata": {
        "id": "7-nQ1Sp9yM33",
        "outputId": "9709da3b-81f6-4a93-8496-28c62d22705a",
        "colab": {
          "base_uri": "https://localhost:8080/",
          "height": 332
        }
      },
      "outputs": [
        {
          "output_type": "error",
          "ename": "TypeError",
          "evalue": "AsyncSession.send() takes 1 positional argument but 2 positional arguments (and 1 keyword-only argument) were given",
          "traceback": [
            "\u001b[0;31m---------------------------------------------------------------------------\u001b[0m",
            "\u001b[0;31mTypeError\u001b[0m                                 Traceback (most recent call last)",
            "\u001b[0;32m<ipython-input-17-e049c0496bae>\u001b[0m in \u001b[0;36m<cell line: 1>\u001b[0;34m()\u001b[0m\n\u001b[1;32m     31\u001b[0m \u001b[0mtools\u001b[0m \u001b[0;34m=\u001b[0m \u001b[0;34m{\u001b[0m\u001b[0;34m'tools'\u001b[0m\u001b[0;34m:\u001b[0m \u001b[0;34m[\u001b[0m\u001b[0msearch_tool\u001b[0m\u001b[0;34m,\u001b[0m \u001b[0mset_climate_tool\u001b[0m\u001b[0;34m]\u001b[0m\u001b[0;34m}\u001b[0m\u001b[0;34m\u001b[0m\u001b[0;34m\u001b[0m\u001b[0m\n\u001b[1;32m     32\u001b[0m \u001b[0;34m\u001b[0m\u001b[0m\n\u001b[0;32m---> 33\u001b[0;31m \u001b[0mresponses\u001b[0m \u001b[0;34m=\u001b[0m \u001b[0;32mawait\u001b[0m \u001b[0mrun\u001b[0m\u001b[0;34m(\u001b[0m\u001b[0;34m\"Look up the weather in Paris and set my climate control appropriately.\"\u001b[0m\u001b[0;34m,\u001b[0m \u001b[0mtools\u001b[0m\u001b[0;34m)\u001b[0m\u001b[0;34m\u001b[0m\u001b[0;34m\u001b[0m\u001b[0m\n\u001b[0m",
            "\u001b[0;32m<ipython-input-12-0dd386dcc0d0>\u001b[0m in \u001b[0;36mrun\u001b[0;34m(query, config)\u001b[0m\n\u001b[1;32m     79\u001b[0m \u001b[0;34m\u001b[0m\u001b[0m\n\u001b[1;32m     80\u001b[0m     \u001b[0;31m# Send the prompt.\u001b[0m\u001b[0;34m\u001b[0m\u001b[0;34m\u001b[0m\u001b[0m\n\u001b[0;32m---> 81\u001b[0;31m     \u001b[0;32mawait\u001b[0m \u001b[0mstrm\u001b[0m\u001b[0;34m.\u001b[0m\u001b[0msend\u001b[0m\u001b[0;34m(\u001b[0m\u001b[0mquery\u001b[0m\u001b[0;34m,\u001b[0m \u001b[0mend_of_turn\u001b[0m\u001b[0;34m=\u001b[0m\u001b[0;32mTrue\u001b[0m\u001b[0;34m)\u001b[0m\u001b[0;34m\u001b[0m\u001b[0;34m\u001b[0m\u001b[0m\n\u001b[0m\u001b[1;32m     82\u001b[0m     \u001b[0;31m# Handle the model response.\u001b[0m\u001b[0;34m\u001b[0m\u001b[0;34m\u001b[0m\u001b[0m\n\u001b[1;32m     83\u001b[0m     \u001b[0mresponses\u001b[0m \u001b[0;34m=\u001b[0m \u001b[0;32mawait\u001b[0m \u001b[0mplay_response\u001b[0m\u001b[0;34m(\u001b[0m\u001b[0mstrm\u001b[0m\u001b[0;34m)\u001b[0m\u001b[0;34m\u001b[0m\u001b[0;34m\u001b[0m\u001b[0m\n",
            "\u001b[0;31mTypeError\u001b[0m: AsyncSession.send() takes 1 positional argument but 2 positional arguments (and 1 keyword-only argument) were given"
          ]
        }
      ],
      "source": [
        "set_climate_tool = {'function_declarations': [{\n",
        "    'name': 'set_climate',\n",
        "    'description': 'Switches the local climate control equipment to the specified parameters.',\n",
        "    'parameters': {\n",
        "      'type': 'OBJECT',\n",
        "      'properties': {\n",
        "        # Define the \"mode\" argument.\n",
        "        'mode': {\n",
        "            'type': 'STRING',\n",
        "            'enum': [\n",
        "              # Define the possible values for \"mode\".\n",
        "              \"hot\",\n",
        "              \"cold\",\n",
        "              \"fan\",\n",
        "              \"off\",\n",
        "            ],\n",
        "            'description': 'Mode for the climate unit - whether to heat, cool or just blow air.',\n",
        "        },\n",
        "        # Define the \"strength\" argument.\n",
        "        'strength': {\n",
        "            'type': 'INTEGER',\n",
        "            'description': 'Intensity of the climate to apply, 0-10 (0 is off, 10 is MAX).',\n",
        "        },\n",
        "      },\n",
        "    },\n",
        "  },\n",
        "]}\n",
        "\n",
        "search_tool = {'google_search': {}}\n",
        "\n",
        "tools = {'tools': [search_tool, set_climate_tool]}\n",
        "\n",
        "responses = await run(\"Look up the weather in Paris and set my climate control appropriately.\", tools)"
      ]
    },
    {
      "cell_type": "markdown",
      "metadata": {
        "id": "hvZvdxr7oJ7i"
      },
      "source": [
        "Now inspect the `tool_call` response(s) you received during the conversation."
      ]
    },
    {
      "cell_type": "code",
      "execution_count": null,
      "metadata": {
        "id": "ZzZlE9IFnwpS",
        "outputId": "444bf984-b095-4ab3-cb31-ae08a0e7f063"
      },
      "outputs": [
        {
          "name": "stdout",
          "output_type": "stream",
          "text": [
            "set_climate(strength=7, mode=hot)  # id=function-call-6271898767513010323\n"
          ]
        }
      ],
      "source": [
        "for r in responses:\n",
        "  if tool := r.tool_call:\n",
        "    for fn in tool.function_calls:\n",
        "      args = ', '.join(f'{k}={v}' for k, v in fn.args.items())\n",
        "      print(f'{fn.name}({args})  # id={fn.id}')"
      ]
    },
    {
      "cell_type": "markdown",
      "metadata": {
        "id": "dOt32shZaEXj"
      },
      "source": [
        "## Next steps\n",
        "\n",
        "<a name=\"next_steps\"></a>\n",
        "\n",
        "* For more demos showcasing multi-tool use in the Multimodal Live API, check out the [Plotting and Mapping cookbook](../examples/LiveAPI_plotting_and_mapping.ipynb).\n",
        "* To get started with the Live API with the Python SDK, check out the [starter guide](./Get_started_LiveAPI.ipynb).\n",
        "* To learn more about tool use in the Live API, check out the [Live API Tool Use cookbook](./Get_started_LiveAPI_tools.ipynb).\n",
        "\n",
        "Also check the other Gemini 2.0 capabilities (like [spatial understanding](../quickstarts/Spatial_understanding.ipynb)) that you can find in the [Gemini Cookbook](https://github.com/google-gemini/cookbook/tree/main/gemini-2/)."
      ]
    }
  ],
  "metadata": {
    "colab": {
      "collapsed_sections": [
        "Tce3stUlHN0L"
      ],
      "name": "Search_Grounding.ipynb",
      "provenance": []
    },
    "kernelspec": {
      "display_name": "Python 3",
      "name": "python3"
    }
  },
  "nbformat": 4,
  "nbformat_minor": 0
}